{
 "cells": [
  {
   "cell_type": "markdown",
   "id": "f20fa36d-1dba-4646-af53-3b1ae7e6e345",
   "metadata": {},
   "source": [
    "SLICE AND LIST"
   ]
  },
  {
   "cell_type": "markdown",
   "id": "209a9c47-e4ce-4856-bced-add3f8446e76",
   "metadata": {},
   "source": [
    "### ONE DIMENSIONAL ARREY"
   ]
  },
  {
   "cell_type": "code",
   "execution_count": 2,
   "id": "229b3203-910b-4819-b0bd-6e808cac0f1c",
   "metadata": {},
   "outputs": [],
   "source": [
    "ARREY = [25,76,90,87,87,345,32,8,70]"
   ]
  },
  {
   "cell_type": "code",
   "execution_count": 4,
   "id": "41800b6f-ce5c-4df9-a405-18443325f839",
   "metadata": {},
   "outputs": [
    {
     "data": {
      "text/plain": [
       "list"
      ]
     },
     "execution_count": 4,
     "metadata": {},
     "output_type": "execute_result"
    }
   ],
   "source": [
    "type(ARREY)"
   ]
  },
  {
   "cell_type": "code",
   "execution_count": 6,
   "id": "3ee1537d-664a-426a-83ae-1f617d6f0f0f",
   "metadata": {},
   "outputs": [
    {
     "data": {
      "text/plain": [
       "90"
      ]
     },
     "execution_count": 6,
     "metadata": {},
     "output_type": "execute_result"
    }
   ],
   "source": [
    "ARREY[2]"
   ]
  },
  {
   "cell_type": "code",
   "execution_count": 8,
   "id": "28b1e361-6727-4575-ae1f-35cdc9d7689d",
   "metadata": {},
   "outputs": [
    {
     "data": {
      "text/plain": [
       "70"
      ]
     },
     "execution_count": 8,
     "metadata": {},
     "output_type": "execute_result"
    }
   ],
   "source": [
    "ARREY [-1]"
   ]
  },
  {
   "cell_type": "code",
   "execution_count": 10,
   "id": "b9436884-7f95-4648-9233-da0f2435199b",
   "metadata": {},
   "outputs": [
    {
     "data": {
      "text/plain": [
       "345"
      ]
     },
     "execution_count": 10,
     "metadata": {},
     "output_type": "execute_result"
    }
   ],
   "source": [
    "ARREY [-4]"
   ]
  },
  {
   "cell_type": "code",
   "execution_count": 12,
   "id": "0f1c2ca8-d3d8-495f-bd4f-535552413b54",
   "metadata": {},
   "outputs": [
    {
     "data": {
      "text/plain": [
       "[]"
      ]
     },
     "execution_count": 12,
     "metadata": {},
     "output_type": "execute_result"
    }
   ],
   "source": [
    "list()"
   ]
  },
  {
   "cell_type": "code",
   "execution_count": 14,
   "id": "94796b92-5e2e-417b-9dcf-f88afad92709",
   "metadata": {},
   "outputs": [
    {
     "data": {
      "text/plain": [
       "[25, 76, 90, 87, 87, 345, 32, 8, 70]"
      ]
     },
     "execution_count": 14,
     "metadata": {},
     "output_type": "execute_result"
    }
   ],
   "source": [
    "list(ARREY)"
   ]
  },
  {
   "cell_type": "code",
   "execution_count": 18,
   "id": "9f83c696-9822-443b-958a-76ac99f71788",
   "metadata": {},
   "outputs": [
    {
     "data": {
      "text/plain": [
       "[76, 90, 87]"
      ]
     },
     "execution_count": 18,
     "metadata": {},
     "output_type": "execute_result"
    }
   ],
   "source": [
    "ARREY[1:4]"
   ]
  },
  {
   "cell_type": "code",
   "execution_count": 20,
   "id": "f55c6570-05f7-434e-b9ff-699ff5350ae2",
   "metadata": {},
   "outputs": [
    {
     "data": {
      "text/plain": [
       "[]"
      ]
     },
     "execution_count": 20,
     "metadata": {},
     "output_type": "execute_result"
    }
   ],
   "source": [
    "ARREY[-1:-5]"
   ]
  },
  {
   "cell_type": "code",
   "execution_count": 22,
   "id": "0f4869c2-645a-4bfe-9391-d5070e640570",
   "metadata": {},
   "outputs": [
    {
     "data": {
      "text/plain": [
       "[87, 345, 32, 8]"
      ]
     },
     "execution_count": 22,
     "metadata": {},
     "output_type": "execute_result"
    }
   ],
   "source": [
    "ARREY[-5:-1]"
   ]
  },
  {
   "cell_type": "markdown",
   "id": "2ee363ce-3103-4935-97b8-875d681e4a42",
   "metadata": {},
   "source": [
    "### MULTI DIMENSIONAL ARREY"
   ]
  },
  {
   "cell_type": "code",
   "execution_count": 1,
   "id": "de033455-35f0-43ad-8fac-c3be40978d55",
   "metadata": {},
   "outputs": [],
   "source": [
    "A2=[45,78,90,32,[3,2,8,9],54,6786,75]"
   ]
  },
  {
   "cell_type": "code",
   "execution_count": 3,
   "id": "fb3daf91-4dc4-4bba-89a8-0c2c90f033af",
   "metadata": {},
   "outputs": [
    {
     "data": {
      "text/plain": [
       "[[3, 2, 8, 9], 54, 6786]"
      ]
     },
     "execution_count": 3,
     "metadata": {},
     "output_type": "execute_result"
    }
   ],
   "source": [
    "A2[-4:-1]"
   ]
  },
  {
   "cell_type": "code",
   "execution_count": 5,
   "id": "00f37cb2-3223-430b-8ead-e8ed43c42bf2",
   "metadata": {},
   "outputs": [
    {
     "data": {
      "text/plain": [
       "[3, 2, 8, 9]"
      ]
     },
     "execution_count": 5,
     "metadata": {},
     "output_type": "execute_result"
    }
   ],
   "source": [
    "A2[-4]"
   ]
  },
  {
   "cell_type": "code",
   "execution_count": 20,
   "id": "a5e02205-e4c8-4d40-a5ca-ec27df24a4f2",
   "metadata": {},
   "outputs": [],
   "source": [
    "A3=[56,[67,89],34,[1,2,3,4],45,765,[872,8,9,65]]\n"
   ]
  },
  {
   "cell_type": "code",
   "execution_count": 22,
   "id": "3dbdb6b2-9978-4a33-a881-9c33599e5998",
   "metadata": {},
   "outputs": [
    {
     "data": {
      "text/plain": [
       "[1, 2, 3, 4]"
      ]
     },
     "execution_count": 22,
     "metadata": {},
     "output_type": "execute_result"
    }
   ],
   "source": [
    "A3[-4]"
   ]
  },
  {
   "cell_type": "code",
   "execution_count": 24,
   "id": "2d021320-8dc6-4046-8931-8d9c6b05bc7b",
   "metadata": {},
   "outputs": [],
   "source": [
    "A4=[453,'SIMRAN',786,'LINGA',769,'DOLL',890,'YUPP']"
   ]
  },
  {
   "cell_type": "code",
   "execution_count": 28,
   "id": "ec685ddb-fbfb-48db-883d-fcfccfbfbcbc",
   "metadata": {},
   "outputs": [
    {
     "data": {
      "text/plain": [
       "[786, 'LINGA', 769]"
      ]
     },
     "execution_count": 28,
     "metadata": {},
     "output_type": "execute_result"
    }
   ],
   "source": [
    "A4[2:5]"
   ]
  },
  {
   "cell_type": "code",
   "execution_count": 30,
   "id": "a6bf54ab-5b00-43b4-9f1d-1ec4feb5b8e2",
   "metadata": {},
   "outputs": [
    {
     "data": {
      "text/plain": [
       "[453, 'SIMRAN', 786, 'LINGA', 769, 'DOLL', 890]"
      ]
     },
     "execution_count": 30,
     "metadata": {},
     "output_type": "execute_result"
    }
   ],
   "source": [
    "A4[0:-1]"
   ]
  },
  {
   "cell_type": "code",
   "execution_count": 32,
   "id": "30d4e81a-dba2-41a9-aab1-0fe373c30422",
   "metadata": {},
   "outputs": [
    {
     "data": {
      "text/plain": [
       "[890, 'YUPP']"
      ]
     },
     "execution_count": 32,
     "metadata": {},
     "output_type": "execute_result"
    }
   ],
   "source": [
    "A4[6:9]"
   ]
  },
  {
   "cell_type": "markdown",
   "id": "3f2a2f8e-3a31-4b5c-93c9-45801a0a707d",
   "metadata": {},
   "source": [
    "### BOOLEAN"
   ]
  },
  {
   "cell_type": "code",
   "execution_count": 35,
   "id": "bb2c25a5-d385-49f6-930b-caa635ca8825",
   "metadata": {},
   "outputs": [],
   "source": [
    "BOY=10\n",
    "GIRL=12\n",
    "TRANS=8"
   ]
  },
  {
   "cell_type": "code",
   "execution_count": 37,
   "id": "14e223a1-a5cc-484c-b298-560836ac8cec",
   "metadata": {},
   "outputs": [
    {
     "data": {
      "text/plain": [
       "False"
      ]
     },
     "execution_count": 37,
     "metadata": {},
     "output_type": "execute_result"
    }
   ],
   "source": [
    "BOY>GIRL"
   ]
  },
  {
   "cell_type": "code",
   "execution_count": 39,
   "id": "5c96cbe7-65d7-4c75-811b-b50a06d6fa26",
   "metadata": {},
   "outputs": [
    {
     "data": {
      "text/plain": [
       "True"
      ]
     },
     "execution_count": 39,
     "metadata": {},
     "output_type": "execute_result"
    }
   ],
   "source": [
    "GIRL>TRANS"
   ]
  },
  {
   "cell_type": "code",
   "execution_count": 41,
   "id": "074a9f45-cd9b-4b97-9542-8e66c5859a25",
   "metadata": {},
   "outputs": [
    {
     "data": {
      "text/plain": [
       "False"
      ]
     },
     "execution_count": 41,
     "metadata": {},
     "output_type": "execute_result"
    }
   ],
   "source": [
    "TRANS==BOY"
   ]
  },
  {
   "cell_type": "code",
   "execution_count": 43,
   "id": "2f99255c-9e6b-4ae8-8c95-be13d9335e22",
   "metadata": {},
   "outputs": [
    {
     "data": {
      "text/plain": [
       "False"
      ]
     },
     "execution_count": 43,
     "metadata": {},
     "output_type": "execute_result"
    }
   ],
   "source": [
    "BOY>TRANS>GIRL"
   ]
  },
  {
   "cell_type": "code",
   "execution_count": 45,
   "id": "b83951be-af3e-4d81-958f-47f6848501c3",
   "metadata": {},
   "outputs": [
    {
     "data": {
      "text/plain": [
       "True"
      ]
     },
     "execution_count": 45,
     "metadata": {},
     "output_type": "execute_result"
    }
   ],
   "source": [
    "GIRL>BOY>TRANS"
   ]
  },
  {
   "cell_type": "code",
   "execution_count": 49,
   "id": "31124113-46a3-4ea9-a28d-17ba58bbe13e",
   "metadata": {},
   "outputs": [
    {
     "data": {
      "text/plain": [
       "False"
      ]
     },
     "execution_count": 49,
     "metadata": {},
     "output_type": "execute_result"
    }
   ],
   "source": [
    "GIRL>BOY<TRANS"
   ]
  },
  {
   "cell_type": "code",
   "execution_count": 51,
   "id": "1ffa996a-1903-441b-b8f1-9bbd39e890cb",
   "metadata": {},
   "outputs": [
    {
     "data": {
      "text/plain": [
       "10"
      ]
     },
     "execution_count": 51,
     "metadata": {},
     "output_type": "execute_result"
    }
   ],
   "source": [
    "BOY or Girl"
   ]
  },
  {
   "cell_type": "code",
   "execution_count": 57,
   "id": "b4e2faa9-7ed2-42be-aa51-dfd8cd1be44c",
   "metadata": {},
   "outputs": [
    {
     "data": {
      "text/plain": [
       "12"
      ]
     },
     "execution_count": 57,
     "metadata": {},
     "output_type": "execute_result"
    }
   ],
   "source": [
    "BOY and GIRL"
   ]
  },
  {
   "cell_type": "code",
   "execution_count": 59,
   "id": "fbd5e0b8-6ee5-4be0-915f-3f22c9296e33",
   "metadata": {},
   "outputs": [
    {
     "data": {
      "text/plain": [
       "10"
      ]
     },
     "execution_count": 59,
     "metadata": {},
     "output_type": "execute_result"
    }
   ],
   "source": [
    "BOY or girl and boy"
   ]
  },
  {
   "cell_type": "code",
   "execution_count": 65,
   "id": "2b748378-08c8-47c4-a562-858198e9c52f",
   "metadata": {},
   "outputs": [
    {
     "data": {
      "text/plain": [
       "12"
      ]
     },
     "execution_count": 65,
     "metadata": {},
     "output_type": "execute_result"
    }
   ],
   "source": [
    "GIRL or boy and boy"
   ]
  },
  {
   "cell_type": "code",
   "execution_count": 71,
   "id": "87b072ed-ed5d-466e-bb13-7786c361cee0",
   "metadata": {},
   "outputs": [
    {
     "data": {
      "text/plain": [
       "10"
      ]
     },
     "execution_count": 71,
     "metadata": {},
     "output_type": "execute_result"
    }
   ],
   "source": [
    "GIRL and BOY or boy"
   ]
  },
  {
   "cell_type": "markdown",
   "id": "e0096681-361d-478e-83ee-d75cb1ebc904",
   "metadata": {},
   "source": [
    "### INT"
   ]
  },
  {
   "cell_type": "code",
   "execution_count": 74,
   "id": "a63f961d-b6fa-47ae-b544-0ca389ac803a",
   "metadata": {},
   "outputs": [],
   "source": [
    "A=512\n",
    "B=765\n",
    "C=200"
   ]
  },
  {
   "cell_type": "code",
   "execution_count": 76,
   "id": "1c6b4347-67e2-4a74-8abe-a98cca9510a3",
   "metadata": {},
   "outputs": [
    {
     "data": {
      "text/plain": [
       "512"
      ]
     },
     "execution_count": 76,
     "metadata": {},
     "output_type": "execute_result"
    }
   ],
   "source": [
    "A"
   ]
  },
  {
   "cell_type": "code",
   "execution_count": 78,
   "id": "4b49c944-9185-4333-838c-9a3ab200e905",
   "metadata": {},
   "outputs": [
    {
     "data": {
      "text/plain": [
       "765"
      ]
     },
     "execution_count": 78,
     "metadata": {},
     "output_type": "execute_result"
    }
   ],
   "source": [
    "B"
   ]
  },
  {
   "cell_type": "code",
   "execution_count": 80,
   "id": "6456c6f9-a5a3-4b0e-9df7-d2de6bf61add",
   "metadata": {},
   "outputs": [
    {
     "data": {
      "text/plain": [
       "200"
      ]
     },
     "execution_count": 80,
     "metadata": {},
     "output_type": "execute_result"
    }
   ],
   "source": [
    "C"
   ]
  },
  {
   "cell_type": "code",
   "execution_count": 82,
   "id": "78f8895a-3d38-4f83-8a33-0fa65531f8f0",
   "metadata": {},
   "outputs": [
    {
     "data": {
      "text/plain": [
       "False"
      ]
     },
     "execution_count": 82,
     "metadata": {},
     "output_type": "execute_result"
    }
   ],
   "source": [
    "A>B"
   ]
  },
  {
   "cell_type": "code",
   "execution_count": 84,
   "id": "55af4e0b-8b72-4159-8772-a0e051f4ea5f",
   "metadata": {},
   "outputs": [
    {
     "data": {
      "text/plain": [
       "True"
      ]
     },
     "execution_count": 84,
     "metadata": {},
     "output_type": "execute_result"
    }
   ],
   "source": [
    "A>C"
   ]
  },
  {
   "cell_type": "code",
   "execution_count": 86,
   "id": "907c4ac0-683c-4090-8d6e-dd2aed9ab41b",
   "metadata": {},
   "outputs": [
    {
     "data": {
      "text/plain": [
       "True"
      ]
     },
     "execution_count": 86,
     "metadata": {},
     "output_type": "execute_result"
    }
   ],
   "source": [
    "B>C"
   ]
  },
  {
   "cell_type": "code",
   "execution_count": 88,
   "id": "81362908-9b2f-4114-9f18-83eebeeac42c",
   "metadata": {},
   "outputs": [
    {
     "data": {
      "text/plain": [
       "False"
      ]
     },
     "execution_count": 88,
     "metadata": {},
     "output_type": "execute_result"
    }
   ],
   "source": [
    "C==A"
   ]
  },
  {
   "cell_type": "code",
   "execution_count": 90,
   "id": "ee93542a-d5dc-4a07-b9ea-676f83fc8083",
   "metadata": {},
   "outputs": [],
   "source": [
    "SUM=A+B"
   ]
  },
  {
   "cell_type": "code",
   "execution_count": 92,
   "id": "8832f9d3-55f9-4f1d-b217-b1f648115e88",
   "metadata": {},
   "outputs": [
    {
     "data": {
      "text/plain": [
       "1277"
      ]
     },
     "execution_count": 92,
     "metadata": {},
     "output_type": "execute_result"
    }
   ],
   "source": [
    "SUM"
   ]
  },
  {
   "cell_type": "code",
   "execution_count": 94,
   "id": "42905b6e-e803-4caa-9736-4ef6096e1cb3",
   "metadata": {},
   "outputs": [],
   "source": [
    "SUBTRACTION=B-C"
   ]
  },
  {
   "cell_type": "code",
   "execution_count": 96,
   "id": "b35f49c2-caa6-4453-b43f-16a6b6781d77",
   "metadata": {},
   "outputs": [
    {
     "data": {
      "text/plain": [
       "565"
      ]
     },
     "execution_count": 96,
     "metadata": {},
     "output_type": "execute_result"
    }
   ],
   "source": [
    "SUBTRACTION"
   ]
  },
  {
   "cell_type": "code",
   "execution_count": 98,
   "id": "3b18c69b-88af-43db-b481-5baca4b2c89c",
   "metadata": {},
   "outputs": [],
   "source": [
    "MULTIPLICATION=A*B+1000"
   ]
  },
  {
   "cell_type": "code",
   "execution_count": 100,
   "id": "235c00fc-ff63-44c9-a9fa-182c7bc2efcb",
   "metadata": {},
   "outputs": [
    {
     "data": {
      "text/plain": [
       "392680"
      ]
     },
     "execution_count": 100,
     "metadata": {},
     "output_type": "execute_result"
    }
   ],
   "source": [
    "MULTIPLICATION"
   ]
  },
  {
   "cell_type": "code",
   "execution_count": 102,
   "id": "a52d3a50-33da-4835-b332-45c34712e935",
   "metadata": {},
   "outputs": [],
   "source": [
    "DIVISION=B/C-100"
   ]
  },
  {
   "cell_type": "code",
   "execution_count": 104,
   "id": "83ba89a5-cff1-418a-929c-443313cdd756",
   "metadata": {},
   "outputs": [
    {
     "data": {
      "text/plain": [
       "-96.175"
      ]
     },
     "execution_count": 104,
     "metadata": {},
     "output_type": "execute_result"
    }
   ],
   "source": [
    "DIVISION"
   ]
  },
  {
   "cell_type": "code",
   "execution_count": 106,
   "id": "9c9f2e72-bb86-4d8c-bb1d-3727c952305a",
   "metadata": {},
   "outputs": [],
   "source": [
    "DIVIDE=15000/5"
   ]
  },
  {
   "cell_type": "code",
   "execution_count": 108,
   "id": "03ac876d-d21c-4a32-a9d2-f457b877fdab",
   "metadata": {},
   "outputs": [
    {
     "data": {
      "text/plain": [
       "3000.0"
      ]
     },
     "execution_count": 108,
     "metadata": {},
     "output_type": "execute_result"
    }
   ],
   "source": [
    "DIVIDE"
   ]
  },
  {
   "cell_type": "markdown",
   "id": "716acd09-cdf4-489c-b196-23ba7e62256a",
   "metadata": {},
   "source": [
    "### string"
   ]
  },
  {
   "cell_type": "code",
   "execution_count": 6,
   "id": "6407c1d3-bc85-4bb1-8dd1-e76d6dc8281f",
   "metadata": {},
   "outputs": [],
   "source": [
    "ST1='BE SPIRITUAL'"
   ]
  },
  {
   "cell_type": "code",
   "execution_count": 8,
   "id": "2a61dd8b-d110-4faa-b77d-aa8c64565e4d",
   "metadata": {},
   "outputs": [
    {
     "data": {
      "text/plain": [
       "str"
      ]
     },
     "execution_count": 8,
     "metadata": {},
     "output_type": "execute_result"
    }
   ],
   "source": [
    "type(ST1)"
   ]
  },
  {
   "cell_type": "code",
   "execution_count": 10,
   "id": "5a851da1-17f2-43d3-add2-fad7ffeb0c06",
   "metadata": {},
   "outputs": [],
   "source": [
    "quote=ST1"
   ]
  },
  {
   "cell_type": "code",
   "execution_count": 12,
   "id": "a5d3cbbc-25d6-4439-9444-f3b7c7210ddd",
   "metadata": {},
   "outputs": [
    {
     "data": {
      "text/plain": [
       "'BE SPIRITUAL'"
      ]
     },
     "execution_count": 12,
     "metadata": {},
     "output_type": "execute_result"
    }
   ],
   "source": [
    "quote"
   ]
  },
  {
   "cell_type": "code",
   "execution_count": 14,
   "id": "b9dda2b5-52f5-4788-8b86-84f7a0cc0a70",
   "metadata": {},
   "outputs": [
    {
     "data": {
      "text/plain": [
       "'be spiritual'"
      ]
     },
     "execution_count": 14,
     "metadata": {},
     "output_type": "execute_result"
    }
   ],
   "source": [
    "ST1.lower()"
   ]
  },
  {
   "cell_type": "code",
   "execution_count": 16,
   "id": "4c31f91e-b580-4263-ad50-6146bba2f9a3",
   "metadata": {},
   "outputs": [
    {
     "data": {
      "text/plain": [
       "'I AM SPIRITUAL'"
      ]
     },
     "execution_count": 16,
     "metadata": {},
     "output_type": "execute_result"
    }
   ],
   "source": [
    "ST1.replace('BE','I AM')"
   ]
  },
  {
   "cell_type": "code",
   "execution_count": null,
   "id": "0b20f91c-0f01-431b-80b5-212f128a4bad",
   "metadata": {},
   "outputs": [],
   "source": []
  }
 ],
 "metadata": {
  "kernelspec": {
   "display_name": "Python 3 (ipykernel)",
   "language": "python",
   "name": "python3"
  },
  "language_info": {
   "codemirror_mode": {
    "name": "ipython",
    "version": 3
   },
   "file_extension": ".py",
   "mimetype": "text/x-python",
   "name": "python",
   "nbconvert_exporter": "python",
   "pygments_lexer": "ipython3",
   "version": "3.12.4"
  }
 },
 "nbformat": 4,
 "nbformat_minor": 5
}
